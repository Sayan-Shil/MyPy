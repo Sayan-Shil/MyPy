{
 "cells": [
  {
   "cell_type": "code",
   "execution_count": 17,
   "id": "c4bdf2a7-e390-42f6-8503-4e14a7237e0d",
   "metadata": {},
   "outputs": [],
   "source": [
    "import numpy as np\n",
    "import pandas as pd\n",
    "import numpy.random as rd"
   ]
  },
  {
   "cell_type": "code",
   "execution_count": null,
   "id": "91da8d74-c111-446e-99a6-cd6243be1bc4",
   "metadata": {},
   "outputs": [],
   "source": [
    "# Dataframes are 2_dimensional Table that can hold hetergenous datatypes"
   ]
  },
  {
   "cell_type": "code",
   "execution_count": 12,
   "id": "375cca4e-194b-47bc-b4f2-0165a0c5e50e",
   "metadata": {},
   "outputs": [
    {
     "data": {
      "text/plain": [
       "array([[ 9, 14,  5, 17],\n",
       "       [19,  6,  8,  8],\n",
       "       [ 3, 14, 20,  2],\n",
       "       [ 2,  4, 22, 17]], dtype=int32)"
      ]
     },
     "execution_count": 12,
     "metadata": {},
     "output_type": "execute_result"
    }
   ],
   "source": [
    "TwoD=rd.randint(25, size=(4,4))\n",
    "TwoD"
   ]
  },
  {
   "cell_type": "code",
   "execution_count": 19,
   "id": "6a4a8ad9-0c76-4221-8a05-1eca220c00d5",
   "metadata": {},
   "outputs": [
    {
     "data": {
      "text/html": [
       "<div>\n",
       "<style scoped>\n",
       "    .dataframe tbody tr th:only-of-type {\n",
       "        vertical-align: middle;\n",
       "    }\n",
       "\n",
       "    .dataframe tbody tr th {\n",
       "        vertical-align: top;\n",
       "    }\n",
       "\n",
       "    .dataframe thead th {\n",
       "        text-align: right;\n",
       "    }\n",
       "</style>\n",
       "<table border=\"1\" class=\"dataframe\">\n",
       "  <thead>\n",
       "    <tr style=\"text-align: right;\">\n",
       "      <th></th>\n",
       "      <th>Arpan</th>\n",
       "      <th>Sayan</th>\n",
       "      <th>Shuvra</th>\n",
       "      <th>Bibek</th>\n",
       "    </tr>\n",
       "  </thead>\n",
       "  <tbody>\n",
       "    <tr>\n",
       "      <th>Roll No.</th>\n",
       "      <td>9</td>\n",
       "      <td>14</td>\n",
       "      <td>5</td>\n",
       "      <td>17</td>\n",
       "    </tr>\n",
       "    <tr>\n",
       "      <th>Marks</th>\n",
       "      <td>19</td>\n",
       "      <td>6</td>\n",
       "      <td>8</td>\n",
       "      <td>8</td>\n",
       "    </tr>\n",
       "    <tr>\n",
       "      <th>Grade</th>\n",
       "      <td>3</td>\n",
       "      <td>14</td>\n",
       "      <td>20</td>\n",
       "      <td>2</td>\n",
       "    </tr>\n",
       "    <tr>\n",
       "      <th>MAR</th>\n",
       "      <td>2</td>\n",
       "      <td>4</td>\n",
       "      <td>22</td>\n",
       "      <td>17</td>\n",
       "    </tr>\n",
       "  </tbody>\n",
       "</table>\n",
       "</div>"
      ],
      "text/plain": [
       "          Arpan  Sayan  Shuvra  Bibek\n",
       "Roll No.      9     14       5     17\n",
       "Marks        19      6       8      8\n",
       "Grade         3     14      20      2\n",
       "MAR           2      4      22     17"
      ]
     },
     "execution_count": 19,
     "metadata": {},
     "output_type": "execute_result"
    }
   ],
   "source": [
    "column_header=[\"Arpan\", \"Sayan\", \"Shuvra\",\"Bibek\"]\n",
    "row_header = [\"Roll No.\", \"Marks\", \"Grade\" , \"MAR\"]\n",
    "pd1 = pd.DataFrame(TwoD, index=row_header, columns=column_header)\n",
    "pd1"
   ]
  },
  {
   "cell_type": "code",
   "execution_count": 18,
   "id": "59906a34-b8bd-4c64-ba49-ef3df19b5585",
   "metadata": {},
   "outputs": [],
   "source": [
    "#retrieve Marks Row-->"
   ]
  },
  {
   "cell_type": "code",
   "execution_count": 23,
   "id": "e1f9c23d-e0e5-45ce-886d-e2986be29b32",
   "metadata": {},
   "outputs": [
    {
     "data": {
      "text/plain": [
       "Arpan     19\n",
       "Sayan      6\n",
       "Shuvra     8\n",
       "Bibek      8\n",
       "Name: Marks, dtype: int32"
      ]
     },
     "execution_count": 23,
     "metadata": {},
     "output_type": "execute_result"
    }
   ],
   "source": [
    "#We have to use loc() means location \n",
    "pd1.loc[\"Marks\"]\n"
   ]
  }
 ],
 "metadata": {
  "kernelspec": {
   "display_name": "Python 3 (ipykernel)",
   "language": "python",
   "name": "python3"
  },
  "language_info": {
   "codemirror_mode": {
    "name": "ipython",
    "version": 3
   },
   "file_extension": ".py",
   "mimetype": "text/x-python",
   "name": "python",
   "nbconvert_exporter": "python",
   "pygments_lexer": "ipython3",
   "version": "3.12.6"
  }
 },
 "nbformat": 4,
 "nbformat_minor": 5
}
