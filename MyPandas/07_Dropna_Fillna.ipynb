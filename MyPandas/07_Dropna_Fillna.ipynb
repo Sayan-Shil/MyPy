{
 "cells": [
  {
   "cell_type": "code",
   "execution_count": 1,
   "id": "79fe34aa-48b0-482e-b526-a9316c8c0c88",
   "metadata": {},
   "outputs": [],
   "source": [
    "import numpy as np\n",
    "import pandas as pd"
   ]
  },
  {
   "cell_type": "code",
   "execution_count": null,
   "id": "ac07dd3a-a10c-468d-b86b-edadc99972fb",
   "metadata": {},
   "outputs": [],
   "source": [
    "# np.nan is a not assigned value"
   ]
  },
  {
   "cell_type": "code",
   "execution_count": 25,
   "id": "067da6da-9032-4b3b-bbe6-ed71d9ea8508",
   "metadata": {},
   "outputs": [
    {
     "data": {
      "text/html": [
       "<div>\n",
       "<style scoped>\n",
       "    .dataframe tbody tr th:only-of-type {\n",
       "        vertical-align: middle;\n",
       "    }\n",
       "\n",
       "    .dataframe tbody tr th {\n",
       "        vertical-align: top;\n",
       "    }\n",
       "\n",
       "    .dataframe thead th {\n",
       "        text-align: right;\n",
       "    }\n",
       "</style>\n",
       "<table border=\"1\" class=\"dataframe\">\n",
       "  <thead>\n",
       "    <tr style=\"text-align: right;\">\n",
       "      <th></th>\n",
       "      <th>Name</th>\n",
       "      <th>UID</th>\n",
       "      <th>Level</th>\n",
       "      <th>RP Level</th>\n",
       "    </tr>\n",
       "  </thead>\n",
       "  <tbody>\n",
       "    <tr>\n",
       "      <th>0</th>\n",
       "      <td>Sayan Shil</td>\n",
       "      <td>85576535</td>\n",
       "      <td>40</td>\n",
       "      <td>NaN</td>\n",
       "    </tr>\n",
       "    <tr>\n",
       "      <th>1</th>\n",
       "      <td>Arkaprava Roy</td>\n",
       "      <td>5456965</td>\n",
       "      <td>54</td>\n",
       "      <td>85.0</td>\n",
       "    </tr>\n",
       "    <tr>\n",
       "      <th>2</th>\n",
       "      <td>NaN</td>\n",
       "      <td>575452</td>\n",
       "      <td>65</td>\n",
       "      <td>45.0</td>\n",
       "    </tr>\n",
       "    <tr>\n",
       "      <th>3</th>\n",
       "      <td>Arpan Dey</td>\n",
       "      <td>55555524</td>\n",
       "      <td>74</td>\n",
       "      <td>98.0</td>\n",
       "    </tr>\n",
       "  </tbody>\n",
       "</table>\n",
       "</div>"
      ],
      "text/plain": [
       "            Name       UID  Level  RP Level\n",
       "0     Sayan Shil  85576535     40       NaN\n",
       "1  Arkaprava Roy   5456965     54      85.0\n",
       "2            NaN    575452     65      45.0\n",
       "3      Arpan Dey  55555524     74      98.0"
      ]
     },
     "execution_count": 25,
     "metadata": {},
     "output_type": "execute_result"
    }
   ],
   "source": [
    "\n",
    "\n",
    "profile = {\n",
    "    \"Name\" : [\"Sayan Shil\",\"Arkaprava Roy\",np.nan,\"Arpan Dey\"],\n",
    "    \"UID\" : [85576535,5456965,575452,55555524],\n",
    "    \"Level\" : [40,54,65,74],\n",
    "    \"RP Level\" : [np.nan,85,45,98]\n",
    "}\n",
    "\n",
    "df = pd.DataFrame(profile)\n",
    "df\n"
   ]
  },
  {
   "cell_type": "code",
   "execution_count": null,
   "id": "dd95f331-7b0e-417d-b926-2ab62ad098e6",
   "metadata": {},
   "outputs": [],
   "source": [
    "# isna helps us  to check if there exist any Nan in a particular column"
   ]
  },
  {
   "cell_type": "code",
   "execution_count": 26,
   "id": "0bd4f903-5d9f-4fe4-bc9c-55844cad24dd",
   "metadata": {},
   "outputs": [
    {
     "data": {
      "text/html": [
       "<div>\n",
       "<style scoped>\n",
       "    .dataframe tbody tr th:only-of-type {\n",
       "        vertical-align: middle;\n",
       "    }\n",
       "\n",
       "    .dataframe tbody tr th {\n",
       "        vertical-align: top;\n",
       "    }\n",
       "\n",
       "    .dataframe thead th {\n",
       "        text-align: right;\n",
       "    }\n",
       "</style>\n",
       "<table border=\"1\" class=\"dataframe\">\n",
       "  <thead>\n",
       "    <tr style=\"text-align: right;\">\n",
       "      <th></th>\n",
       "      <th>Name</th>\n",
       "      <th>UID</th>\n",
       "      <th>Level</th>\n",
       "      <th>RP Level</th>\n",
       "    </tr>\n",
       "  </thead>\n",
       "  <tbody>\n",
       "    <tr>\n",
       "      <th>0</th>\n",
       "      <td>Sayan Shil</td>\n",
       "      <td>85576535</td>\n",
       "      <td>40</td>\n",
       "      <td>NaN</td>\n",
       "    </tr>\n",
       "  </tbody>\n",
       "</table>\n",
       "</div>"
      ],
      "text/plain": [
       "         Name       UID  Level  RP Level\n",
       "0  Sayan Shil  85576535     40       NaN"
      ]
     },
     "execution_count": 26,
     "metadata": {},
     "output_type": "execute_result"
    }
   ],
   "source": [
    "df[pd.isna(df[\"RP Level\"])]"
   ]
  },
  {
   "cell_type": "code",
   "execution_count": 22,
   "id": "674d971e-7d8d-4d27-8dca-cddd4b47bb14",
   "metadata": {},
   "outputs": [],
   "source": [
    "# dropna helps us to delete the particular column or row "
   ]
  },
  {
   "cell_type": "code",
   "execution_count": 24,
   "id": "09db53bc-8bdb-4770-8979-d88187adbb8a",
   "metadata": {},
   "outputs": [],
   "source": [
    "# Q.1 It is obsererved in table that someone have not entered their name but given their data. Find those and delete then"
   ]
  },
  {
   "cell_type": "code",
   "execution_count": 33,
   "id": "08ddda98-3f8d-45e7-b344-a6be560c1efe",
   "metadata": {},
   "outputs": [
    {
     "data": {
      "text/html": [
       "<div>\n",
       "<style scoped>\n",
       "    .dataframe tbody tr th:only-of-type {\n",
       "        vertical-align: middle;\n",
       "    }\n",
       "\n",
       "    .dataframe tbody tr th {\n",
       "        vertical-align: top;\n",
       "    }\n",
       "\n",
       "    .dataframe thead th {\n",
       "        text-align: right;\n",
       "    }\n",
       "</style>\n",
       "<table border=\"1\" class=\"dataframe\">\n",
       "  <thead>\n",
       "    <tr style=\"text-align: right;\">\n",
       "      <th></th>\n",
       "      <th>Name</th>\n",
       "      <th>UID</th>\n",
       "      <th>Level</th>\n",
       "      <th>RP Level</th>\n",
       "    </tr>\n",
       "  </thead>\n",
       "  <tbody>\n",
       "    <tr>\n",
       "      <th>0</th>\n",
       "      <td>Sayan Shil</td>\n",
       "      <td>85576535</td>\n",
       "      <td>40</td>\n",
       "      <td>NaN</td>\n",
       "    </tr>\n",
       "    <tr>\n",
       "      <th>1</th>\n",
       "      <td>Arkaprava Roy</td>\n",
       "      <td>5456965</td>\n",
       "      <td>54</td>\n",
       "      <td>85.0</td>\n",
       "    </tr>\n",
       "    <tr>\n",
       "      <th>3</th>\n",
       "      <td>Arpan Dey</td>\n",
       "      <td>55555524</td>\n",
       "      <td>74</td>\n",
       "      <td>98.0</td>\n",
       "    </tr>\n",
       "  </tbody>\n",
       "</table>\n",
       "</div>"
      ],
      "text/plain": [
       "            Name       UID  Level  RP Level\n",
       "0     Sayan Shil  85576535     40       NaN\n",
       "1  Arkaprava Roy   5456965     54      85.0\n",
       "3      Arpan Dey  55555524     74      98.0"
      ]
     },
     "execution_count": 33,
     "metadata": {},
     "output_type": "execute_result"
    }
   ],
   "source": [
    "df.dropna(subset=[\"Name\"], inplace=True) #Using Subset\n",
    "df"
   ]
  },
  {
   "cell_type": "code",
   "execution_count": 34,
   "id": "8faabb88-1bbf-4952-a3da-e7c1f8c0ad05",
   "metadata": {},
   "outputs": [],
   "source": [
    "#Fillna helps us to fill NaN value"
   ]
  },
  {
   "cell_type": "code",
   "execution_count": 35,
   "id": "29d78700-ebd1-4f76-8488-606884f628eb",
   "metadata": {},
   "outputs": [],
   "source": [
    "#Q.2 It has seen that \"Sayan Shil\" has not entered RP Level by mistake, It is informed that his RP level is 153. update in NaN"
   ]
  },
  {
   "cell_type": "code",
   "execution_count": 36,
   "id": "38b4fd51-4712-4218-b6d8-7cb99e799def",
   "metadata": {},
   "outputs": [
    {
     "data": {
      "text/html": [
       "<div>\n",
       "<style scoped>\n",
       "    .dataframe tbody tr th:only-of-type {\n",
       "        vertical-align: middle;\n",
       "    }\n",
       "\n",
       "    .dataframe tbody tr th {\n",
       "        vertical-align: top;\n",
       "    }\n",
       "\n",
       "    .dataframe thead th {\n",
       "        text-align: right;\n",
       "    }\n",
       "</style>\n",
       "<table border=\"1\" class=\"dataframe\">\n",
       "  <thead>\n",
       "    <tr style=\"text-align: right;\">\n",
       "      <th></th>\n",
       "      <th>Name</th>\n",
       "      <th>UID</th>\n",
       "      <th>Level</th>\n",
       "      <th>RP Level</th>\n",
       "    </tr>\n",
       "  </thead>\n",
       "  <tbody>\n",
       "    <tr>\n",
       "      <th>0</th>\n",
       "      <td>Sayan Shil</td>\n",
       "      <td>85576535</td>\n",
       "      <td>40</td>\n",
       "      <td>153.0</td>\n",
       "    </tr>\n",
       "    <tr>\n",
       "      <th>1</th>\n",
       "      <td>Arkaprava Roy</td>\n",
       "      <td>5456965</td>\n",
       "      <td>54</td>\n",
       "      <td>85.0</td>\n",
       "    </tr>\n",
       "    <tr>\n",
       "      <th>3</th>\n",
       "      <td>Arpan Dey</td>\n",
       "      <td>55555524</td>\n",
       "      <td>74</td>\n",
       "      <td>98.0</td>\n",
       "    </tr>\n",
       "  </tbody>\n",
       "</table>\n",
       "</div>"
      ],
      "text/plain": [
       "            Name       UID  Level  RP Level\n",
       "0     Sayan Shil  85576535     40     153.0\n",
       "1  Arkaprava Roy   5456965     54      85.0\n",
       "3      Arpan Dey  55555524     74      98.0"
      ]
     },
     "execution_count": 36,
     "metadata": {},
     "output_type": "execute_result"
    }
   ],
   "source": [
    "df.fillna(value=153)"
   ]
  },
  {
   "cell_type": "code",
   "execution_count": null,
   "id": "1f4e4a63-f55d-4300-a661-e9e74033ac61",
   "metadata": {},
   "outputs": [],
   "source": []
  }
 ],
 "metadata": {
  "kernelspec": {
   "display_name": "Python 3 (ipykernel)",
   "language": "python",
   "name": "python3"
  },
  "language_info": {
   "codemirror_mode": {
    "name": "ipython",
    "version": 3
   },
   "file_extension": ".py",
   "mimetype": "text/x-python",
   "name": "python",
   "nbconvert_exporter": "python",
   "pygments_lexer": "ipython3",
   "version": "3.12.6"
  }
 },
 "nbformat": 4,
 "nbformat_minor": 5
}
