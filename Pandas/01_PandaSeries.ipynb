{
 "cells": [
  {
   "cell_type": "code",
   "execution_count": 2,
   "id": "c04a3188-e6ca-4932-9359-d4b0c7a90658",
   "metadata": {},
   "outputs": [],
   "source": [
    "import numpy as np\n",
    "import pandas as pd\n",
    "#"
   ]
  },
  {
   "cell_type": "code",
   "execution_count": null,
   "id": "cbc3a9b7-2514-4115-b0ad-8f0d156cb540",
   "metadata": {},
   "outputs": [],
   "source": [
    "#Series - In Pandas, Series is actually 1-Dimensional Array which can store any kind of data types.\n",
    "# Array vs Series : Series are heterogeneous , Arrays are homogeneous"
   ]
  },
  {
   "cell_type": "code",
   "execution_count": 16,
   "id": "68a96ca2-33f8-419e-8ce2-e8f8ffeeaf04",
   "metadata": {},
   "outputs": [
    {
     "data": {
      "text/plain": [
       "0    1\n",
       "1    2\n",
       "2    3\n",
       "3    4\n",
       "4    5\n",
       "5    6\n",
       "dtype: int64"
      ]
     },
     "execution_count": 16,
     "metadata": {},
     "output_type": "execute_result"
    }
   ],
   "source": [
    "mySeries = [1,2,3,4,5,6]\n",
    "pandaSeries = pd.Series(mySeries)\n",
    "pandaSeries"
   ]
  },
  {
   "cell_type": "code",
   "execution_count": 4,
   "id": "7117d630-afa4-4e50-a350-6a94ebdad5c3",
   "metadata": {},
   "outputs": [],
   "source": [
    "# we can call any number based on index , similar to numpy Array"
   ]
  },
  {
   "cell_type": "code",
   "execution_count": 7,
   "id": "bb7db4c4-c383-44e4-ab50-32a419f06003",
   "metadata": {},
   "outputs": [
    {
     "data": {
      "text/plain": [
       "np.int64(3)"
      ]
     },
     "execution_count": 7,
     "metadata": {},
     "output_type": "execute_result"
    }
   ],
   "source": [
    "pandaSeries[2]"
   ]
  },
  {
   "cell_type": "code",
   "execution_count": 8,
   "id": "3094692e-5ad9-4da1-85cc-65404e85867f",
   "metadata": {},
   "outputs": [],
   "source": [
    "# The pandas.Series object is returning an element of type numpy.int64. This happens because Pandas uses NumPy under the hood,\n",
    "# and the integer values in our Series are stored as np.int64 by default for efficiency."
   ]
  },
  {
   "cell_type": "code",
   "execution_count": 9,
   "id": "284b659f-fa79-4c64-9a42-3c60a61c1e95",
   "metadata": {},
   "outputs": [
    {
     "data": {
      "text/plain": [
       "3"
      ]
     },
     "execution_count": 9,
     "metadata": {},
     "output_type": "execute_result"
    }
   ],
   "source": [
    "int(pandaSeries[2])"
   ]
  },
  {
   "cell_type": "code",
   "execution_count": 10,
   "id": "201ef80d-50e1-41ab-898b-b34cbc68f2fb",
   "metadata": {},
   "outputs": [],
   "source": [
    "#we can change indexing too"
   ]
  },
  {
   "cell_type": "code",
   "execution_count": 12,
   "id": "c82754ba-1bcd-4197-956b-707738599cc4",
   "metadata": {},
   "outputs": [],
   "source": [
    "my_index = [\"i\", \"ii\", \"iii\", \"iv\", \"v\", \"vi\"]"
   ]
  },
  {
   "cell_type": "code",
   "execution_count": 13,
   "id": "bcd33f89-0f32-44cd-b9d6-4c439ffe1503",
   "metadata": {},
   "outputs": [],
   "source": [
    "pandaSeries = pd.Series(mySeries, index=my_index)"
   ]
  },
  {
   "cell_type": "code",
   "execution_count": 14,
   "id": "6c3b1785-9fb5-48a4-8bb5-d97c1e414be7",
   "metadata": {},
   "outputs": [
    {
     "data": {
      "text/plain": [
       "i      1\n",
       "ii     2\n",
       "iii    3\n",
       "iv     4\n",
       "v      5\n",
       "vi     6\n",
       "dtype: int64"
      ]
     },
     "execution_count": 14,
     "metadata": {},
     "output_type": "execute_result"
    }
   ],
   "source": [
    "pandaSeries"
   ]
  },
  {
   "cell_type": "code",
   "execution_count": 17,
   "id": "ebc46359-9397-4969-b7fd-939c65da3492",
   "metadata": {},
   "outputs": [],
   "source": [
    "#As Series are hetergeneous , so dictionary can be uconverted in Series"
   ]
  },
  {
   "cell_type": "code",
   "execution_count": 18,
   "id": "7430983e-a852-483f-a4f1-9dc2eee91d4d",
   "metadata": {},
   "outputs": [],
   "source": [
    "profile = {\n",
    "    \"Name\" : \"Sayan Shil\",\n",
    "    \"UID\" : 85576535,\n",
    "    \"Level\" : 40,\n",
    "    \"RP Level\" : 139\n",
    "}"
   ]
  },
  {
   "cell_type": "code",
   "execution_count": 19,
   "id": "f8af377e-cd39-44f7-8619-be8221df7bf8",
   "metadata": {},
   "outputs": [],
   "source": [
    "ps1= pd.Series(profile)"
   ]
  },
  {
   "cell_type": "code",
   "execution_count": 20,
   "id": "cdd67537-d5d5-4523-bd24-25c289f05868",
   "metadata": {},
   "outputs": [
    {
     "data": {
      "text/plain": [
       "Name        Sayan Shil\n",
       "UID           85576535\n",
       "Level               40\n",
       "RP Level           139\n",
       "dtype: object"
      ]
     },
     "execution_count": 20,
     "metadata": {},
     "output_type": "execute_result"
    }
   ],
   "source": [
    "ps1"
   ]
  },
  {
   "cell_type": "code",
   "execution_count": null,
   "id": "79edc3f6-f2c2-4fd6-8630-d7d29c1bd23c",
   "metadata": {},
   "outputs": [],
   "source": []
  }
 ],
 "metadata": {
  "kernelspec": {
   "display_name": "Python 3 (ipykernel)",
   "language": "python",
   "name": "python3"
  },
  "language_info": {
   "codemirror_mode": {
    "name": "ipython",
    "version": 3
   },
   "file_extension": ".py",
   "mimetype": "text/x-python",
   "name": "python",
   "nbconvert_exporter": "python",
   "pygments_lexer": "ipython3",
   "version": "3.12.6"
  }
 },
 "nbformat": 4,
 "nbformat_minor": 5
}
