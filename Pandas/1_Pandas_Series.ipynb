{
 "cells": [
  {
   "cell_type": "code",
   "execution_count": null,
   "id": "3467d0af-3196-4572-aa07-b32d4efff735",
   "metadata": {},
   "outputs": [],
   "source": [
    "import numpy as np\n",
    "import pandas as pd"
   ]
  },
  {
   "cell_type": "code",
   "execution_count": 4,
   "id": "0710acd5-3661-4155-89f7-3972622af5ec",
   "metadata": {},
   "outputs": [],
   "source": [
    "#Pandas Series -  a one-dimensional labeled array holding data of any type\n",
    "# such as integers, strings, Python objects etc."
   ]
  },
  {
   "cell_type": "code",
   "execution_count": 8,
   "id": "feed1fa8-14cc-4830-81d2-bd7ae9faa10a",
   "metadata": {},
   "outputs": [],
   "source": [
    "my_Array = [1,5,2,4,6,8,7]"
   ]
  },
  {
   "cell_type": "code",
   "execution_count": 9,
   "id": "aff89c0a-a8dc-4469-9257-cad7e4771a48",
   "metadata": {},
   "outputs": [
    {
     "ename": "NameError",
     "evalue": "name 'pd' is not defined",
     "output_type": "error",
     "traceback": [
      "\u001b[1;31m---------------------------------------------------------------------------\u001b[0m",
      "\u001b[1;31mNameError\u001b[0m                                 Traceback (most recent call last)",
      "Cell \u001b[1;32mIn[9], line 1\u001b[0m\n\u001b[1;32m----> 1\u001b[0m series \u001b[38;5;241m=\u001b[39m \u001b[43mpd\u001b[49m\u001b[38;5;241m.\u001b[39mseries(my_Array)\n",
      "\u001b[1;31mNameError\u001b[0m: name 'pd' is not defined"
     ]
    }
   ],
   "source": [
    "series = pd.series(my_Array)"
   ]
  },
  {
   "cell_type": "code",
   "execution_count": null,
   "id": "42e739e1-e5a0-460a-946b-572a491bcb05",
   "metadata": {},
   "outputs": [],
   "source": [
    "print(series)"
   ]
  }
 ],
 "metadata": {
  "kernelspec": {
   "display_name": "Python 3 (ipykernel)",
   "language": "python",
   "name": "python3"
  },
  "language_info": {
   "codemirror_mode": {
    "name": "ipython",
    "version": 3
   },
   "file_extension": ".py",
   "mimetype": "text/x-python",
   "name": "python",
   "nbconvert_exporter": "python",
   "pygments_lexer": "ipython3",
   "version": "3.12.6"
  }
 },
 "nbformat": 4,
 "nbformat_minor": 5
}
